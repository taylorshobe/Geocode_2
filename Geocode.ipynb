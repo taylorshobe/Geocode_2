{
 "cells": [
  {
   "cell_type": "code",
   "execution_count": 2,
   "metadata": {},
   "outputs": [],
   "source": [
    "import pandas as pd\n",
    "from math import radians, sin, cos, sqrt, atan2"
   ]
  },
  {
   "cell_type": "code",
   "execution_count": 2,
   "metadata": {},
   "outputs": [
    {
     "name": "stdout",
     "output_type": "stream",
     "text": [
      "       ID  Latitude  Shortest Distance           Closest Address\n",
      "0  ABC123        40         211.698819  123 Anywhere street, USA\n",
      "1  ABC234        35         647.316461  123 Anywhere street, USA\n",
      "2  ABC345        59         142.952353             789 Here, USA\n"
     ]
    }
   ],
   "source": [
    "# Dataframe 1\n",
    "df1 = pd.DataFrame({\n",
    "    'ID': ['ABC123', 'ABC234', 'ABC345'],\n",
    "    'Latitude': [40, 35, 59],\n",
    "    'Longitude': [-96, -90, -98]\n",
    "})\n",
    "\n",
    "# Dataframe 2\n",
    "df2 = pd.DataFrame({\n",
    "    'Address': ['123 Anywhere street, USA', '456 Nowhere, USA', '789 Here, USA'],\n",
    "    'Latitude': [40, 45, 57],\n",
    "    'Longitude': [-100, -150, -97]\n",
    "})\n",
    "\n",
    "def haversine(lat1, lon1, lat2, lon2):\n",
    "    # Convert decimal degrees to radians\n",
    "    lat1, lon1, lat2, lon2 = map(radians, [lat1, lon1, lat2, lon2])\n",
    "\n",
    "    # Haversine formula\n",
    "    dlon = lon2 - lon1\n",
    "    dlat = lat2 - lat1\n",
    "    a = sin(dlat/2)**2 + cos(lat1) * cos(lat2) * sin(dlon/2)**2\n",
    "    c = 2 * atan2(sqrt(a), sqrt(1-a))\n",
    "    distance = 3958.8 * c  # Radius of the Earth in miles\n",
    "    return distance\n",
    "\n",
    "distances = []\n",
    "closest_addresses = []\n",
    "\n",
    "# Iterate over rows in Dataframe 1\n",
    "for _, row1 in df1.iterrows():\n",
    "    id_ = row1['ID']\n",
    "    lat1 = row1['Latitude']\n",
    "    lon1 = row1['Longitude']\n",
    "    closest_address = ''\n",
    "    shortest_distance = float('inf')\n",
    "    \n",
    "    # Iterate over rows in Dataframe 2\n",
    "    for _, row2 in df2.iterrows():\n",
    "        lat2 = row2['Latitude']\n",
    "        lon2 = row2['Longitude']\n",
    "        \n",
    "        # Calculate the distance\n",
    "        distance = haversine(lat1, lon1, lat2, lon2)\n",
    "        \n",
    "        # Check if it's the shortest distance so far\n",
    "        if distance < shortest_distance:\n",
    "            shortest_distance = distance\n",
    "            closest_address = row2['Address']\n",
    "    \n",
    "    # Append the shortest distance and closest address to the lists\n",
    "    distances.append(shortest_distance)\n",
    "    closest_addresses.append(closest_address)\n",
    "\n",
    "# Create the desired output dataframe\n",
    "output_df = pd.DataFrame({\n",
    "    'ID': df1['ID'],\n",
    "    'Latitude': df1['Latitude'],\n",
    "    'Shortest Distance': distances,\n",
    "    'Closest Address': closest_addresses\n",
    "})\n",
    "\n",
    "print(output_df)"
   ]
  },
  {
   "cell_type": "code",
   "execution_count": 3,
   "metadata": {},
   "outputs": [
    {
     "name": "stdout",
     "output_type": "stream",
     "text": [
      "       ID Shortest Distance           Closest Address\n",
      "0  ABC123      211.70 miles  123 Anywhere street, USA\n",
      "1  ABC234      647.31 miles  123 Anywhere street, USA\n",
      "2  ABC345      142.95 miles             789 Here, USA\n"
     ]
    }
   ],
   "source": [
    "# Function to calculate the distance between two coordinates using the Haversine formula\n",
    "def calculate_distance(lat1, lon1, lat2, lon2):\n",
    "    R = 6371  # Radius of the Earth in kilometers\n",
    "\n",
    "    # Convert latitude and longitude from degrees to radians\n",
    "    lat1_rad, lon1_rad = radians(lat1), radians(lon1)\n",
    "    lat2_rad, lon2_rad = radians(lat2), radians(lon2)\n",
    "\n",
    "    # Difference in latitude and longitude\n",
    "    dlat = lat2_rad - lat1_rad\n",
    "    dlon = lon2_rad - lon1_rad\n",
    "\n",
    "    # Haversine formula\n",
    "    a = sin(dlat/2)**2 + cos(lat1_rad) * cos(lat2_rad) * sin(dlon/2)**2\n",
    "    c = 2 * atan2(sqrt(a), sqrt(1-a))\n",
    "\n",
    "    # Calculate the distance in miles\n",
    "    distance = R * c * 0.62137119  # Convert distance from kilometers to miles\n",
    "    return distance\n",
    "\n",
    "# Create the input dataframes\n",
    "df1 = pd.DataFrame({'ID': ['ABC123', 'ABC234', 'ABC345'],\n",
    "                    'Latitude': [40.0, 35.0, 59.0],\n",
    "                    'Longitude': [-96.0, -90.0, -98.0]})\n",
    "\n",
    "df2 = pd.DataFrame({'Address': ['123 Anywhere street, USA', '456 Nowhere, USA', '789 Here, USA'],\n",
    "                    'Latitude': [40.0, 45.0, 57.0],\n",
    "                    'Longitude': [-100.0, -150.0, -97.0]})\n",
    "\n",
    "# Initialize the output dataframe\n",
    "output_df = pd.DataFrame(columns=['ID', 'Shortest Distance', 'Closest Address'])\n",
    "\n",
    "# Iterate over each row in df1\n",
    "for idx1, row1 in df1.iterrows():\n",
    "    shortest_distance = float('inf')  # Initialize with infinity\n",
    "    closest_address = \"\"\n",
    "\n",
    "    # Iterate over each row in df2\n",
    "    for idx2, row2 in df2.iterrows():\n",
    "        # Calculate the distance between coordinates\n",
    "        distance = calculate_distance(row1['Latitude'], row1['Longitude'], row2['Latitude'], row2['Longitude'])\n",
    "        \n",
    "        # Check if the calculated distance is shorter than the current shortest distance\n",
    "        if distance < shortest_distance:\n",
    "            shortest_distance = distance\n",
    "            closest_address = row2['Address']\n",
    "\n",
    "    # Add the result to the output dataframe\n",
    "    output_df = output_df.append({'ID': row1['ID'],\n",
    "                                  'Shortest Distance': f'{shortest_distance:.2f} miles',\n",
    "                                  'Closest Address': closest_address}, ignore_index=True)\n",
    "\n",
    "print(output_df)\n"
   ]
  },
  {
   "cell_type": "code",
   "execution_count": null,
   "metadata": {},
   "outputs": [],
   "source": []
  }
 ],
 "metadata": {
  "kernelspec": {
   "display_name": "Python 3",
   "language": "python",
   "name": "python3"
  },
  "language_info": {
   "codemirror_mode": {
    "name": "ipython",
    "version": 3
   },
   "file_extension": ".py",
   "mimetype": "text/x-python",
   "name": "python",
   "nbconvert_exporter": "python",
   "pygments_lexer": "ipython3",
   "version": "3.7.3"
  }
 },
 "nbformat": 4,
 "nbformat_minor": 2
}
